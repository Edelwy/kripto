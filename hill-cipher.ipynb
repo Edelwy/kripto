{
 "cells": [
  {
   "attachments": {
    "image.png": {
     "image/png": "[encoded data removed]"
    }
   },
   "cell_type": "markdown",
   "metadata": {
    "tags": []
   },
   "source": [
    "# **HILLOVA ŠIFRA**\n",
    "### Delovanje in teorija za šifriranje\n",
    "Za boljše razumevanje so potrebne osnove zgoraj omenjenega načina šifriranja. Vsaka črka **angleške abecede** je bijektivno preslikana v elemente množice ostankov pri deljenju naravnih števil s številom **26**, torej s številom črk v abecedi. Števila si lahko predstavljamo, kot da so označena z indeksi od 0 do 25.\n",
    "\n",
    "![image.png](attachment:image.png)\n",
    "\n",
    "Blok črk **dolžine n** uporabimo kot vektor števil, ki smo jih pridobili s preslikavo in ima tako **n elementov**. V našem primeru je specificirana **dolžina bloka 2**. \n",
    "\n",
    "Pri enkripciji si izberemo ključ, matriko velikosti **n** $\\times$ **n**, oziroma v našem primeru **2** $\\times$ **2**. Vektor nato z leve strani pomnožimo z matriko.\n",
    "Pri izbiri matrike moramo biti pazljivi, saj za dekripcijo potrebujemo njen inverz. Zadosten in potreben pogej za obstoj **inverza** je **neničelna** determinanta. Ker število 26 ni praštevilo, imamo v grupi tudi **delitelje niča**. Determinanta torej ne sme biti deljiva z delitelji števila 26. To sta števili **2** in **13**. Ta dejstva bodo drastično zmanjšala število potrebnih poskusov, preden besedilo dešifriramo."
   ]
  },
  {
   "cell_type": "markdown",
   "metadata": {},
   "source": [
    "### Program za dešifriranje\n",
    "Program deluje za dolžino bloka 2. \n",
    "Najprej nastavimo okolje za lažje razumevanje. \n",
    "Implementirali bomo **slovar**, ki preslika črko v število in obratno."
   ]
  },
  {
   "cell_type": "code",
   "execution_count": 2,
   "metadata": {},
   "outputs": [],
   "source": [
    "import numpy as np\n",
    "from collections import Counter\n",
    "\n",
    "file = open('input.txt', 'r') \n",
    "encrypted_text = file.readline()\n",
    "file.close()\n",
    "length = len(encrypted_text)\n",
    "n = 2 # velikost bloka - mogoce so posplositve\n",
    "mod = 26 # dolzina abecede - mogoce so posplositve\n",
    "\n",
    "alphabet = 'abcdefghijklmnopqrstuvwxyz'\n",
    "num = {alphabet[i]: i for i in range(mod)}\n",
    "ltr = {i: alphabet[i] for i in range(mod)}"
   ]
  },
  {
   "cell_type": "code",
   "execution_count": 3,
   "metadata": {},
   "outputs": [],
   "source": [
    "# sifriran tekst razdelimo v bloke velikosti n\n",
    "blocks = [encrypted_text[i:i+n] for i in range(0, length, n)]"
   ]
  },
  {
   "cell_type": "markdown",
   "metadata": {},
   "source": [
    "V članku, ki je bil podan na spletni učilnici, je jasno razvidno, da če razpišenmo problem kot linearni sistem enačb, lahko šifro razbijemo po **vrsticah**. \n",
    "Tako zmanjšamo število ključev, ki jih je potrebno testirati. Naredimo torej **iteracijo** po vseh možnih vektorjih velikosti **n**, ki imajo elemente iz grupe.\n",
    "Tako dobimo **prvo črko** bloka in ne celega bloka. Prve črke iz vseh blokov zlepimo v **niz**. Niz za vsak možen vektor zapišemo v seznam. Kasneje bomo rezultate uporabili za konstrukcijo matrik.  "
   ]
  },
  {
   "cell_type": "code",
   "execution_count": 6,
   "metadata": {},
   "outputs": [],
   "source": [
    "rows = {}\n",
    "\n",
    "for first in range(mod):\n",
    "    for second in range(mod):\n",
    "        letters = ''\n",
    "        key = [first, second]\n",
    "        \n",
    "        for block in blocks:\n",
    "    \n",
    "            vector = [num[block[0]], num[block[1]]]\n",
    "            \n",
    "            result = np.matmul(key, vector) % mod\n",
    "            letters += ltr[result]\n",
    "        \n",
    "        rows[chisquare(letters)] = key\n",
    "\n",
    "# ta implementacija dela za velikost bloka 2"
   ]
  },
  {
   "cell_type": "markdown",
   "metadata": {},
   "source": [
    "Sedaj bomo za vsako možno vrstico matrike uporabili **Chi-Squared Statistic** metodo, da optimiziramo iskanje. Vsakemu nizu v seznamu bomo dodali oceno glede frekvenco črk, ki se v njem pojavijo. Najboljše opcije so tiste z najnižjo oceno. Ta metoda je izkoristi **frekvenčno analizo črk**. Pogledamo pojavitve vsake črke v nizu vsakega bloka in jih primerjamo s povprečno frekvenco črke v angleškem jezku, glede na dolžino stavka. Nato bomo uporabili le vrstice, ki imajo boljšo oceno."
   ]
  },
  {
   "cell_type": "code",
   "execution_count": 5,
   "metadata": {},
   "outputs": [],
   "source": [
    "frequency = {\n",
    "    'a': 8.17,\n",
    "    'b': 1.49,\n",
    "    'c': 2.78,\n",
    "    'd': 4.25,\n",
    "    'e': 12.70,\n",
    "    'f': 2.23,\n",
    "    'g': 2.02,\n",
    "    'h': 6.09,\n",
    "    'i': 7.00,\n",
    "    'j': 0.15,\n",
    "    'k': 0.77,\n",
    "    'l': 4.03,\n",
    "    'm': 2.41,\n",
    "    'n': 6.75,\n",
    "    'o': 7.51,\n",
    "    'p': 1.93,\n",
    "    'q': 0.10,\n",
    "    'r': 5.99,\n",
    "    's': 6.33,\n",
    "    't': 9.06,\n",
    "    'u': 2.76,\n",
    "    'v': 0.98,\n",
    "    'w': 2.36,\n",
    "    'x': 0.15,\n",
    "    'y': 1.97,\n",
    "    'z': 0.07 }\n",
    "\n",
    "def chisquare(str):\n",
    "\n",
    "    observed = dict(Counter(str))\n",
    "    for char in alphabet:\n",
    "        if char not in observed:\n",
    "            observed[char] = 0\n",
    "\n",
    "    score = 0\n",
    "    for char in alphabet:\n",
    "        # izracun frekvence glede na stevilo crk v besedilu\n",
    "        expected = ((frequency[char]) * len(str)) / 100 \n",
    "        score += pow((observed[char] - expected), 2) / expected\n",
    "\n",
    "    return score"
   ]
  },
  {
   "cell_type": "markdown",
   "metadata": {},
   "source": [
    "Sedaj lahko izberemo `best` najboljših opcij glede na oceno, ki smo jo dobili zgoraj. Šifrirano besedilo poskusimo dešifrirati samo z matrikami, ki so permutacija selekcioniranih vrstic. Najboljšo rešitev poiščemo tako, da spet ocenimo najmanjšo odstopanje od pričakovane frekvence črk v besedilu. Vidimo, da za izpis potrebujemo **0.1** sekunde, ali celo manj, saj bi lahko `best` nastavili še nižje.\n",
    "\n",
    "**Opomba**: Optimizacija na tak način je odvisna od dolžine besedila. Če bi enkriptirali samo besedo \"cryptography\" bi za rezultat potrebovali `best` vsaj 150.\n",
    "\n",
    "**Zanimivost**: Ko sem dešifrirala samo besedo \"cryptography\" sem za izračun najprej potrebovala skoraj minuto. Problem je bil v računanju determinante z Numpy. Ko sem determinanto zračunala tako, kot lahko vidimo spodaj, se je čas izvajanja zmanjšal za več kot polovico. "
   ]
  },
  {
   "cell_type": "code",
   "execution_count": 7,
   "metadata": {},
   "outputs": [],
   "source": [
    "def decipher(matrix, blocks):\n",
    "    deciphered = ''\n",
    "    for block in blocks:\n",
    "        vector = [num[block[0]], num[block[1]]]\n",
    "        result = np.matmul(matrix, vector) % mod\n",
    "        deciphered += ltr[result.item(0)] + ltr[result.item(1)]\n",
    "    return deciphered"
   ]
  },
  {
   "cell_type": "code",
   "execution_count": 8,
   "metadata": {},
   "outputs": [
    {
     "name": "stdout",
     "output_type": "stream",
     "text": [
      "[[0, 1], [15, 18], 'cryptographypriortothemodernagewaseffectivelysynonymouswithencryptiontheconversionofinformationfromareadablestatetoapparentnonsensetheoriginatorofanencryptedmessagealicesharedthedecodingtechniqueneededtorecovertheoriginalinformationonlywithintendedrecipientsbobtherebyprecludingunwantedpersonsevefromdoingthesamethecryptographyliteratureoftenusesaliceaforthesenderbobbfortheintendedrecipientandeveeavesdropperfortheadversarysincethedevelopmentofrotorciphermachinesinworldwariandtheadventofcomputersinworldwariithemethodsusedtocarryoutcryptologyhavebecomeincreasinglycomplexanditsapplicationmorewidespread']\n",
      "[[13, 1], [15, 18], 'prlptotrnphycrioetbthemodeenagewasrffeptvvrlyslnbnymouswvthencryctioathecoavrrsibnbfvnformntioafromarendnbleftntrtoacpnrrngnbnsensrthebrigvnntbrbfnnrnprlptedmessagenliceshareqthedecodingtephniqurneedeqtbrecbvrrgheoriginaliafbrmatibnbnlywighvnteadrdrecipirntsbootherebycrecludinghnwaatrdpersbnsevesromdovntthesameghecryctograchllvtrrnthreostrnusesnliceafoetheseadrrboobfoethevnteadrdrecipirntaadrveenvesqrbppeefbrgheaqvrrsarysincrthedevelopmrntosrbtbrcichrrmaphvnesvnwoeldwnriaadgheaqvrntofcomputersvnwoeldwnriighemrthodsusrdtocaeryohtprlptologyhavebecomevnpreasinglycozplexaadvtsacplicatibnmorewidefprend']\n",
      "[[18, 5], [15, 18], 'irupdoerspbyvrooltotdekohejncgmwgscffeatmveliscnmngmkuywutdefcryntooptdeuohvgrcimnsfsnronmctootffooateodwbzektctytmadpkrwnhnmnsetsytdewrugsnctwrsfanwniruprebmcsiaeeilkccstateztdeheuoripgrewhhiiuwngeheztwrocgvgrfhsodioinajitfwroabimnmnxyyifhsnrebdkdtesifiwnnsvobtdetehyvrocnuripggneaptkdvepsmnsepefrqmtosnwtdeiayefhocryntogjajhklutgrctqrsoxtwnmscsilkcwaroltdesebdgrvovbroltdesnrebdkdtesifiwnhabdqvgeuvcshrepvepfwrfhwarvgriarycifcytdehepelopmwndofrotwrsijhgroawhsncssnaorlnwkrsabdfhwarvwndoncqmjurepssnaorlnwkrmifhamytpodsmskddoyatryoitirupdolocytapejeuoyesnirwacipgxyuogpzedabdutiadpjiyabimnkoteyiheapteod']\n",
      "[[15, 5], [0, 1], 'rcpybtrgpalhepoigrtorhomrdargawesaferftcvilesynynomyuowstirhpnlrgpoignrhocinreisnofonibfzrtaoisnbramrrdabarltstateaocpraneatnoesfnterhroginitarofonanercpyrtzdseaseglacisenhrrgdrhrdocvdtnrthcvnuqneeerdgdrocevoreutoevrignnvlsnroamvtnonolliwutnirtqnderricvpneftbbgbrhrrlbepcehlvdtnnuawgnderpfrnoesrvefmobdnitgrhasemutcelrgpgonruplytiretaruoegfnesuselaciaebfgrrhesqnrebbobbfgrrhnirtqnderricvpnentqnveeevaseedporpsrroutaeidreaslrispnterhrdrvblzpnebteftoroicupreamhcniseniowyrjdraaiqnutaeidnebtpfmohprtfrniowyrjdraiiutmetebhfdsudebtaceroyturcpybtblygnhrvrbocemnircaeistnllocpmrlnxqntiascpvlacvtnoomrriwrdpsrrda']\n",
      "[[22, 23], [15, 18], 'gripboirwpbytrcodtitpeeonepnogkwqssfbectovglcsmnunomguewstpejctyptcobtpemoxvurgiunkfenhormotcodfnogaheudybrektotqtuaxpsrcndnunoedsqtpemrsgenotmrkfancngripvexmsswaieelacssxahejtpenemofibgveahxiuucnuenejtmrycevurphaoziainajidfmrganiunundyiiphenvehdwdheyilicntsfovtpehelytryclufibgknyabtwdtefsunoejebrwmtoenetpewayephyctyptigpanhqlsturotcraoxtcnassselaccahodtpeoehdurfofbhodtpeenvehdwdheyilicndahdmvuekvssnrqpteffmrphcafvurwatygijcqtpenejexodmcnbobritmryinhurgaahenssenwotldwsreahdphcafvcnbofcwmnuvefsenwotldwsroiphemqtvolsaswdbooahrkoytgripboxouyxajezemoyeengrcagibgdymocprefahdstwaxpjioaniuneoheiinespheud']\n",
      "[[23, 22], [0, 1], 'bcdyatpgxaihbpuifrbomhimydbreauemanesflcdiresytyxooygoestimhknerlpuirnmhmcbnvemsxojopiqfwrrauizngrqmirpafaalpsrafekorphabevtxossmnfemhrogipirarojonabebcdyctmdaeyscgdamiaeshirvdmhydmcsdenctdconaqbeieydvdroyelovertgecrwganulznroqmwtxoxowlawrtpictpndeiricipbeutcbbbmhirabbpyeclsdenfumwrndeoparxosswvffsowdpizgmhyskmrtyeerlpooordpjytiverazugepfbeeuaedamioeqffrmhsspnvecbpbqffrmhpictpndeiricipbeitpnpeiebaaeldhoopnrrortoefdveysermsknfemhydwvylcpbeatffboroicdpveqmdcpiaepiewrrkdhacipnrtoefdbeatifsoqpctarpiewrrkdhaqirtwefekhqdeudeatucvryyjubcdyatylygshwvebmckmpibcoemsenwlmcnmalwxpntiysrpulucwtxoimirawydvsirpa']\n",
      "[[18, 5], [13, 1], 'ipuldtetsnbhvcoileobdhkmhdjecamegacrffapmveriyclmbgykoysuvdhfnrrncoipadhuchagrcsmbsbsvrfnrcnoitafromtronwnzlkfcnyrmodcknwrhgmbsstnyrdhwbuisvcnwbsbanwripulrtbdceiseginkicethtrzqdhhducrdpnrtwphniqwrgehdzqwboegbgrfgsedrognnjltawbombtmbmbxlywfgsvrtbakrtrscfpwrntvbbodhtrhbvcoenlrdpnghewpakrvpprmbsspvfsqotdsvwtdhisymfgoerrncoojrjckluvgrcnqhsexswrmuceinkiwerfledhssbagrvbvorfledhsvrtbakrtrscfpwrhtbaqrgeuncehqebvppewbfgwerqgrisrrcsfnyrdhhdpvllppwrdtfsobwbscjcgromwpsvcesvawrendknsibafgwerqwrdtnfqojprtprsvawrendknmifgaeyrphddmukrdtycteyyihipuldtllcgthpvjbucymsvipwecspnxlucgzzldxbauvisdcjlycbtmbkmtrywhdaftron']\n",
      "[[13, 1], [2, 5], 'pelctbtenchlcrioetbghrmodrenagewasrsfrpgviryyslabaymouswvghrnprlctioathrcoavresibabsvafbrzngioafrbmarrnqnolrfgngrgoacpneragnbasenfrghrbeigvangbebsnarapelctrdzessagenyiceshnrrqthrdrcodvnttrpunvquraeedrqtbeecbiregheorvginnlvafbematvbaballwighvatradrqrrcipvratfbbothrrrblcreclhdvnthawaatrqprrfbasevrsromdbvatghrsameghecrlctogrnchlyvgrengheeostrausesnyiceafbethrseadrebbobfbethrvatradrqrrcipvratnadrieeniesqrbcprefbegheaqvresarlsinprghrdrvrlbpzratbsrbgbecichremapuvaesvawoeldjneiaadgheaqvratbfpomphtrrfvawoeldjneiighemrghbdfusrqtbcaeryohgpelctblbgyhnvrbrcomevapeeasintllcozclrxnadvgsacplvcatvbamorrwidrfcrrnq']\n",
      "[[18, 5], [15, 5], 'irupdberspblveoolgotdrkohrjacgmwgscffratmveliscnmngmkuywutdrfprlngoopgdruohigrcimnsfsnrbnzctootsfboatrodwbzrktctytmadckrwnhamnsetfytdrwrugsnctwrsfanwniruprrbzcsiaeeilkccstntrzgdrhruorvptrrwhhviuwngehrzgwrocgvgrfusodvoinnjvtswroabvmnmnxlyifusnrrbqkdtrsifvwnnfvbbgdrtrhlveocnhrvptgneapgkdvrpfmnseprfeqmtbsnwtdriayefuocrlngogjnjuklutgrctqrsoxgwnmscsilkcwarblgdrsebqgrvbvorblgdrsnrrbqkdtrsifvwnhnbqqvgeuvcsheepvrpswrfuwarigriarlcifpytdrhrprlbpzwndbfeotwrsijugroawhsncssnaorynjkrsabqfuwariwndbnpqmjhrrpfsnaorynjkrmifuamytpbdfmskddbyateyoitirupdblbcytnprjruoyesnirwaciptxluogpzrdnbqutiadcjvyabvmnkotryihraptrod']\n",
      "[[22, 23], [13, 1], 'gpilbtitwnbhtccideibphemndpeoakeqasrbfcpovgrcymluboygoessvphjntrpccibaphmcxaurgsubkbevhfrroncidanrgmhrunynrlkfonqruoxcsncrdgubosdnqrphmbsievonmbkbancrgpilvtxdsewsigenaisexhhrjqphndmcfdbnvtapxnuqcruendjqmbyeeburpgaezragnnjldambgmntububdliwpgevvthawrhryclpcrttfbvophhrlbtcyellfdbnkhywbawrtpfrubosjvbswotdevetphwsympgyetrpcioprncqlsvuronchaexscrauseenaicehfdephoshaurfbfohfdephevvthawrhryclpcrdthamrueknsenqqbtpfembpgcefqurwstrgsjnqrphndjvxldpcrbtbsibmbycncurgmapevseevwwteddsneihapgcefqcrbtffwonpvtfrevwwteddsnoipgeeqrvhldauwrbtochekyyhgpilbtxlugxhjvzbmcymevgpcegsbndlmcczrlfxhasvwsxcjlocntubemhriwndsfhrun']\n",
      "[[22, 23], [15, 5], 'gripbbirwpbltecodgitpreonrpaogkwqssfbrctovglcsmnunomguewstprjptlpgcobgprmoxiurgiunkfenhbrzotcodsnbgahrudybrrktotqtuaxcsrcndaunoedfqtprmrsgenotmrkfancngripvrxzsswaieelacssxnhrjgprnrmofvbtvrahxvuucnuenrjgmrycevurpuaozvainnjvdsmrganvunundliipuenvrhqwdhryilvcntffbvgprhrllteyclhfvbtknyabgwdtrffunoejrbewmtbenetprwayepuyctlpgigpnnuqlsturotcraoxgcnassselaccahbdgproehqurfbfohbdgprenvrhqwdhryilvcndnhqmvuekvssneqptrfsmrpucafiurwatlgijpqtprnrjrxbdzcnbbbeitmryinuurgaahenssenwotydjsreahqpucaficnbbfpwmnhvrffenwotydjsroipuemqtvblfaswdbboahekoytgripbbxbuyxnjrzrmoyeengrcagibtdlmocprrfnhqstwaxcjvoanvuneohriinrsphrud']\n",
      "[[23, 22], [2, 5], 'bedcabpexcilbruoftbgmrioyrbneguwmsnssrlgdirysstaxaomguewtgmrkpelltuortmrmobvvemixajspaqbwzrguozfgbqairpqfoarpgrgfgkarphebavnxasemffgmrreggpargrejsnababedccrmzasyacedymcassnirvtmryrmosvetcrduovaubaieyrvtreycliverhgocvwianuvzfreqawvxaxawlairhpacrpddqiriiivbaufcbbtmriralbrycchsvetfamartdqorafxasewrfrsmwbpazgmryakerhycelltogondhjytgvergzegoptbaesasdymcoaqbftmrsepdvecbpbqbftmrpacrpddqiriiivbainpdpiiebiaslrhcornfrerhoafvveyaelmikpfgmryrwrybczbaabfrbgreiidhveqadupaaspaeorlkjhecapdrhoafvbaabipsmqhcrafpaeorlkjheqirhwmfgkbqfesdqabuavryojgbedcabybyysnwrermokepabeoamietwlmoncarwnpdtgyarpuvuawvxaioiraiyrvcirpq']\n",
      "[[23, 22], [13, 1], 'bpdlatptxnihbcuifebbmhimydbeeauemanrsflpdvrrsytlxboygoestvmhknerlcuiramhmcbavrmsxbjbpvqfwrrnuizagrqmirpnfnalpfrnfrkorchnbrvgxbssmnfrmhrbgipvrnrbjbnnbrbpdlctmdaeyscgdnmiaeshirvqmhydmcsdenctdponaqbrieydvqrbyelbvrrggecrwganulzarbqmwtxbxbwlawrgpvctpadriricipbrutcbbomhirabbcyeclsdenfhmwradroparxbsswvfssowdpvztmhyskmrgyeerlcooordcjltvvrrnzhgepsbreuaednmioeqffemhsspavrcbpoqffemhpvctpadriricipbritpapriebnaelqhbopnerbrgoefqvrysermsknfrmhydwvylcpbratfsbbrbicdcvrqmdppvaepvewrekdhncipargoefqbratifsoqpctarpvewrekdhnqirgwefrkhqdeudratucveyyjhbpdlatylygshwvebmckmpvbpoemsenwlmcnzalwxpatvysrculucwtxbimirawydvfirpn']\n",
      "[[13, 14], [18, 5], 'pilugdtensubpviorlboudmkqhrjacemagrcsfpavmreyilcbmygoksyvuudaferpnionpudcunhrgscbmbsvssrennciontefmoetnonwyzfkncryompdnkrwthbmssatryudbwiuvsncbwbsnarwpilugrqbecsigeniikecutetdzudqhcuqrapgrpwahqirwegqhdzbweobgrgtfesedgoanyjntbwmogbbmbmyxwytfvsgrnbrketcscfrwgnovbbudetohpveoynqraphgwenprkcvepbmssipffoqqtvstwudsimytfeoerpnooejpjlkvurgnchqesfxrwumecniikewsrrludssnbrgovbvsrrludvsgrnbrketcscfrwghnbrqegnuecdhbecvrpbwtfewdrrgsierscafryudqhipylcprwgdffbobwcspjrgmopwvsecvswarrqnnkisnbtfewdrrwgdsnoqcjgrepvswarrqnnkimtfearyupqdumrkgdcyrtyyhipilugdylgcutipojcumyvspiewscapyxcuzgyzkdnbvusipdyjcygbbmmketwyqhfaetno']\n",
      "[[23, 22], [15, 5], 'brdpabprxpilbeuofgbtmrioyrbaeguwmsnfsrltdvrlsstnxnomguewttmrkpellguorgmrmobivrmixnjfpnqbwzrtuozsgbqairpdfbarptrtftkarchrbnvaxnsemfftmrrrggpnrtrrjfnnbnbrdpcrmzasyacedlmcassnirvgmryrmosvetcrdhovaubnieyrvgrryclvvrrugocvwianuvzsrrqawvxnxnwlairupncrpqddiriiivbnufcbbgmriralbeycchsvetfnmargddorafxnsewrfesmwbpnztmryakeruycellgogondujlttvrrtzrgopgbnesasdlmcoaqbfgmrsepqvrcbpoqbfgmrpncrpqddiriiivbninpqpviebvaslehpornsrrruoafivryaelmikpftmryrwrybczbnabfebtrriiduvrqadhpnaspneorykjhrcapqruoafibnabipsmqhcrafpneorykjhrqiruwmftkbqfesddabuaveyojtbrdpabybyysnwrermokepnbroamietwlmonparwnpqttyarcuvuawvxnioiraiyrvpirpd']\n",
      "[[13, 14], [2, 5], 'pelcgbtenculpriortbgurmoqrrnagewasrssrpgviryyslabaymouswvgurapelptionturconvresibabsvasbezngionfebmaernqnoyrfgngrgoappneratnbaseafrgurbeigvangbebsnarapelcgrqzessagenyicesunerdturqrcoqvatgrpuavquraeeqrdtbeecbiretheoevgianyvnfbemagvbabaylwithvagrndrqercicvragfobbturerolprecyhqvathawantrqcrefbaseirfromqbvatgursamethecelptogenphlyvgrengheeoftrausesnyiceasbrtursendreobbbsbrturvagrndrqercicvragnndrieeniesdrbccrrfbetheadvresaelsiaprgurqrirybczragbfrbgbeciphremapuvaesvaworlqjneiandtheadvragbspomchgrefvaworlqjneiithemrgubqfusrqgbcarryohgpelcgbybgyunirorcomevapeeasiatylcozcyrknndvgsappyvcagvbamoerwiqrfcernq']\n",
      "[[13, 14], [15, 5], 'prlpgbtrnpulpeiorgbturmoqrraagewasrfsrptvvrlyslnbnymouswvturapelpgiongurconirrsibnbfvnsbezntionsebmaerndnbyrftntrtoapcnrrntabnseafrturbrigvnntbrbfnnrnprlpgrqzessagenlicesunerdgurqrcoqvatgrphavqurneeqrdgbrecbvrrtueoevgianyvnsbrmagvbnbnylwituvngrnqrdercicvrngfobbgurerolpeecyhqvathnwangrdcrefbnseirfeomqbvnttursametuecelpgogenpullvtrrnthreofgrnusesnliceasbrgursenqrrobbosbrgurvngrnqrdercicvrngnnqrveenvesdebpcrrsbrtueadirrsaelsiaprturqrirybczrngbfebtbrcipurrmaphvnesvnworyqjnrianqtueadirngbspomchgrefvnworyqjnriituemrtubqfusrdgbcareyohtprlpgbybgyunirorcomevnpreasiatylcozpyrknnqvtsapcyvcagvbnmoerwiqrfpernd']\n",
      "[[23, 22], [18, 5], 'biduadpexsibbvuoflbomdikyhbjecummgncsfladmresitcxmoggkeytumdkferlnuorpmdmubhvgmcxmjspsqrwnrcuoztgfqoitpofwazpkrcfykmrdhkbwvhxmssmtfymdrwgupsrcrwjsnabwbiducrmbacyicedimkacstitvzmdyhmusrepcrdwohaibwigyhvzrwyolgvgrfgscdwoanujztrwqowbxmxmwxayrfpscrpbdkitisifbwuncvbbmditahbvyocnsrepfgmerpdkovapxmsswpffsqwtpszwmdyikyrfyoerlnooojdjjktuvgrczqgspxbwemacdimkowqrflmdsspbvgcvpvqrflmdpscrpbdkitisifbwihpbpqigbuaclhheovnprwrfowfrvgyiermckffymdyhwpylcpbwadffborwisdjvgqodwpsacpsearrknhkcspbrfowfrbwadinsqqjcrappsearrknhkqmrfwafykpqdemdkaduyvtyyjibiduadylycstwpejmukypsbiowmcepwxmungazwdpbtuyirdujuywbxmikitayyhvaitpo']\n",
      "[[13, 14], [22, 23], 'pgligbtinwubpticrdbiupmeqnrpaoekaqrssbpcvorgyclmbuyoogsevsupajetppicnbupcmnxrusgbubkveshernoicndenmgehnunyyrfknorqoupxnsrctdbusoadrqupbmisvenobmbknarcpgligvqxesswgineiaesuxehdjupqncmqfabgvpaaxqurceuqndjbmeyberutpeaezgaanyjndbmmggnbubuydwitpvegvnhrwehcyclrcgtofbvupeholpteyylqfabhkwynbrwctefbusoijfbowqtveteupswmytpeyetppoieppnlqvsrunohceafxrcuaesneiaecshrdupsonhruofbfshrdupvegvnhrwehcyclrcgdnhrmeunkesdnbqctrfbmtpecdfruswetsgajrqupqnijyxcdrcgbfbbibmcypnrumgpaveesvewwrtqdnsienhtpecdfrcgbsfowcngvefvewwrtqdnsiotpeerquvqluarwgbcorhykhypgligbyxguuxijozcmmyvepgecsgabydcmzcyrkfnhvsswpxyjcognbumeehwiqnfsehnu']\n",
      "[[23, 22], [22, 23], 'bgdiabpixwibbtucfdbimpieynbpeoukmqnssblcdorgsctmxuooggeetsmpkjetlpucrbmpmmbxvumgxujkpeqhwrrouczdgnqgihpufyarpkrofqkurxhsbcvdxusomdfqmprmgsperormjknabcbgdicvmxasywcidemaassxihvjmpynmmsfebcvdaoxaubciuynvjrmyylevurpgaczwaanujzdrmqgwnxuxuwdairppecvphdwihiyilbcutcfbvmpihalbtyyclsfebfkmyrbdwotafxusowjfbswwtpezempywkyrpyyetlpoiopdnjqtsvurozcgapxbceaasdemaocqhfdmpsophvucfpfqhfdmppecvphdwihiyilbcidphpmiubkaslnhqotnfrmrpocffvuywetmgkjfqmpynwjyxcdbcabfbbirmiydnvuqgdapeaspeewrtkdhscephrpocffbcabifswqncvafpeewrtkdhsqorpwefqkvqleadwabuovhykjybgdiabyxyusxwjezmmkypebgocmgebwdmmncarwfphtsywrxujuownxuieihaiynvsihpu']\n"
     ]
    }
   ],
   "source": [
    "keys = sorted(rows)\n",
    "sorted_rows = {i: rows[i] for i in keys}\n",
    "\n",
    "solutions = {}\n",
    "best = 10 # lahko sami reguliramo!\n",
    "for r1 in list(sorted_rows.values())[:best]:\n",
    "    for r2 in list(sorted_rows.values())[:best]:\n",
    "\n",
    "        matrix = np.matrix([r1, r2])\n",
    "        det = matrix[0,0]*matrix[1,1] - matrix[0,1]*matrix[1,0]\n",
    "\n",
    "        if det != 0 and (det % 13) != 0 and (det % 2) != 0:\n",
    "            text = decipher(matrix, blocks)\n",
    "            error = chisquare(text)\n",
    "            solutions[error] = [r1, r2, text]   \n",
    "\n",
    "keys = list(solutions.keys())\n",
    "keys.sort(reverse = False)\n",
    "sorted_solutions = {i: solutions[i] for i in keys}\n",
    "_ = {print(sorted_solutions[i]) for i in keys} # matrix key is: [0,1] [15,18]"
   ]
  },
  {
   "cell_type": "markdown",
   "metadata": {},
   "source": [
    "## Solution\n",
    "Cryptography prior to the modern age was effectively synonymous with encryption the conversion of information from areadable state to apparent nonsense. The originator of an encrypted message Alice shared the decoding technique needed to recover the original in formation only with intended recipients Bob thereby precluding unwanted persons Eve from doing the same. The cryptography literature often uses Alice A for the sender Bob B for the intended recipient and Eve eavesdropper for the adversary. Since the development of rotor cipher machines in World War I and the advent of computers in World War II the methods used to carry out cryptology have become increasingly complex and its application more widespread."
   ]
  }
 ],
 "metadata": {
  "kernelspec": {
   "display_name": "Python 3 (ipykernel)",
   "language": "python",
   "name": "python3"
  },
  "language_info": {
   "codemirror_mode": {
    "name": "ipython",
    "version": 3
   },
   "file_extension": ".py",
   "mimetype": "text/x-python",
   "name": "python",
   "nbconvert_exporter": "python",
   "pygments_lexer": "ipython3",
   "version": "3.10.4"
  }
 },
 "nbformat": 4,
 "nbformat_minor": 4
}
