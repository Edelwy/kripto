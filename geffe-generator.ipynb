{
 "cells": [
  {
   "cell_type": "markdown",
   "metadata": {},
   "source": [
    "# **GEFFEJEV GENERATOR**\n",
    "\n",
    "**Avtor**: Nina Mislej\n",
    "<br />**Vpisna številka**: 63200016\n",
    "\n",
    "## **Kratek opis delovanja in teorije**\n",
    "Na hitro razložimo osnovne pojme, ki jih bomo potrebovali za dešifriranje našega besedila. Tako kot pri Hillovi šifri si lahko predstavljamo, kot da so črke **angleške abecede** označene z indeksi od 0 do 25. Vsakemu od teh števil priredimo dvojiško zaporedje.\n",
    "\n",
    "|0 A  |1 B  |2 C  |3 D  |4 E  |5 F  |6 G  |7 H  |8 I  |9 J  |10 K |11 L |12 M |\n",
    "|-----|-----|-----|-----|-----|-----|-----|-----|-----|-----|-----|-----|-----|\n",
    "|00000|00001|00010|00011|00100|00101|00110|00111|01000|01001|01010|01011|01100|\n",
    "\n",
    "|13 N |14 O |15 P |16 Q |17 R |18 S |19 T |20 U |21 V |22 W |23 X |24 Y |25 Z |\n",
    "|-----|-----|-----|-----|-----|-----|-----|-----|-----|-----|-----|-----|-----|\n",
    "|01101|01110|01111|10000|10001|10010|10011|10100|10101|10110|10111|11000|11001|\n",
    "\n",
    "Geffejev generator je tip **tokovne šifre** in je sestavljen iz treh pomičnih registrov s povratno zanko: **LFSR1**, **LFSR2** in **LFSR3**. Izhodne bite označimo z **x<sub>1</sub>**, **x<sub>2</sub>** in **x<sub>3</sub>**. Najprej črko zapišemo v binarni obliki, tko kot piše v tabeli zgoraj. Nato mu po modulu števila 2 (⨁) prištejemo ključ, ki ga vrne generator. Generator deluje po Boolean funkciji.\n",
    "\n",
    "### **Parametri v našem primeru**\n",
    "F(x1, x2, x3) = (x1 ∧ x2) ⨁ (x2 ∧ x3) ⨁ x3\n",
    "\n",
    "Izpišimo še tabelo vrednosti:\n",
    "| x1 | x2 | x3 | F  |\n",
    "| -- | -- | -- | -- |\n",
    "| 0  | 0  | 0  | 0  |\n",
    "| 0  | 0  | 1  | 1  |\n",
    "| 0  | 1  | 0  | 0  |\n",
    "| 0  | 1  | 1  | 0  |\n",
    "| 1  | 0  | 0  | 0  |\n",
    "| 1  | 0  | 1  | 1  |\n",
    "| 1  | 1  | 0  | 1  |\n",
    "| 1  | 1  | 1  | 1  |\n",
    "\n",
    "Karakteristični polinomi LFSR-jev:\n",
    "- p1(x) = x<sup>5</sup> + x<sup>2</sup> + 1  &emsp; &emsp; &nbsp;<span>&#10230;</span>&emsp; &emsp;           x<sub>1, i</sub> =  x<sub>1, i-2</sub> ⨁ x<sub>1, i-5</sub>\n",
    "- p2(x)= x<sup>7</sup> + x + 1               &emsp; &emsp; &nbsp; &nbsp; <span>&#10230;</span>&emsp; &emsp;   x<sub>2, i</sub> =  x<sub>2, i-1</sub> ⨁ x<sub>2, i-7</sub>\n",
    "- p3(x)= x<sup>11</sup> + x<sup>2</sup> + 1  &emsp; &emsp; &nbsp;<span>&#10230;</span>&emsp; &emsp;           x<sub>3, i</sub> =  x<sub>3, i-2</sub> ⨁ x<sub>3, i-11</sub>\n",
    "\n",
    "Red prvega polinoma je 5, polinom je nerazcepen zato je perioda 2<sup>5</sup> - 1 = 31\n",
    "<br />Red drugega polinoma je 7, polinom je nerazcepen zato je perioda 2<sup>7</sup> - 1 = 127\n",
    "<br />Red tretjega polinoma je 11, polinom je nerazcepen zato je perioda spet 2<sup>11</sup> - 1 = 2047\n",
    "\n",
    "Poleg tega za nas specifični primer vemo tudi, da se besedilo, ki smo ga prestregli začne z besedo: **CRYPTOGRAPHY**"
   ]
  },
  {
   "cell_type": "markdown",
   "metadata": {},
   "source": [
    "## **Program za dešifriranje**\n",
    "Najprej postavimo ustrezno okolje in preberemo vsebino šifrirane datoteke. Imamo 2 slovarja, `bin` preslika črko v njegovo binarno reprezentacijo in `bch` binarno število nazaj v črko. \n",
    "Definiramo tudi dve funkciji ki to preslikavo opravljata za celo besedo. Nato naredimo še funkcijo, ki opravi xor operacijo med obema binarnima nizoma"
   ]
  },
  {
   "cell_type": "code",
   "execution_count": 1,
   "metadata": {},
   "outputs": [],
   "source": [
    "import numpy as np\n",
    "file = open('input.txt', 'r') \n",
    "encrypted_text = file.readline()\n",
    "known_text = \"cryptography\"\n",
    "file.close()\n",
    "length = len(encrypted_text)\n",
    "mod = 26 # dolzina abecede - mogoce so posplositve\n",
    "\n",
    "alphabet = 'abcdefghijklmnopqrstuvwxyz'\n",
    "num = {alphabet[i]: i for i in range(mod)}\n",
    "ltr = {i: alphabet[i] for i in range(mod)}\n",
    "bin = {alphabet[i]: format(i,'05b') for i in range(mod)}\n",
    "bch = {format(i,'05b'): alphabet[i] for i in range(mod)}\n",
    "\n",
    "def str_to_bin(word):\n",
    "    bin_word = \"\"\n",
    "    for char in word:\n",
    "        bin_word += bin[char]\n",
    "    return bin_word\n",
    "\n",
    "def bin_to_str(bin_word):\n",
    "    word = \"\"\n",
    "    for chunk in [bin_word[i:i+5] for i in range(0, len(bin_word), 5)]:\n",
    "        word += bch[chunk]\n",
    "    return word\n",
    "\n",
    "def num_to_bin_list(i,m):\n",
    "    return [int(n) for n in list(format(i,f\"0{m}b\"))]\n",
    "\n",
    "def list_to_str(sequence):\n",
    "    sequence = list(map(str, sequence))\n",
    "    return \"\".join(str(i) for i in sequence)\n",
    "\n",
    "def xor(string1, string2):\n",
    "    return [(ord(a) ^ ord(b)) for a, b in zip(string1, string2)]"
   ]
  },
  {
   "cell_type": "markdown",
   "metadata": {},
   "source": [
    "Ker vemo prvo besedo, dolgo 12 črk, lahko tako dobimo izhodne vrednosti funkcije za **prvih 12 bitov**.\n",
    "Vzamemo 5 $\\times$ 12 bitov šifriranega besedila in 12 črk poznane besede v bitnem zapisu.\n",
    "Na teh dveh nizih opravimo ⨁ operacijo in tako dobimo izhodne vrednosti, ki jih želimo."
   ]
  },
  {
   "cell_type": "code",
   "execution_count": 2,
   "metadata": {},
   "outputs": [
    {
     "name": "stdout",
     "output_type": "stream",
     "text": [
      "This is the encrypted word: 011001110111111110011000111110101010111001111011000111111001\n",
      "This is the word in binary: 000101000111000011111001101110001101000100000011110011111000\n",
      "Output of function F for the first 12 letters:\n",
      "[0, 1, 1, 1, 0]\n",
      "[0, 1, 1, 0, 0]\n",
      "[0, 0, 1, 1, 1]\n",
      "[1, 0, 1, 1, 0]\n",
      "[0, 0, 0, 1, 0]\n",
      "[1, 0, 0, 0, 0]\n",
      "[1, 0, 0, 1, 1]\n",
      "[1, 1, 1, 1, 1]\n",
      "[0, 1, 1, 1, 1]\n",
      "[0, 0, 0, 1, 1]\n",
      "[0, 1, 0, 0, 0]\n",
      "[0, 0, 0, 0, 1]\n"
     ]
    }
   ],
   "source": [
    "encrypted_string = encrypted_text[:len(known_text)*5]\n",
    "known_string = str_to_bin(known_text)\n",
    "print(\"This is the encrypted word:\", encrypted_string)\n",
    "print(\"This is the word in binary:\", known_string)\n",
    "\n",
    "F = xor(encrypted_string, known_string)\n",
    "\n",
    "print(\"Output of function F for the first 12 letters:\")\n",
    "for i in range(0, len(F), 5):\n",
    "    print(F[i:i+5])\n"
   ]
  },
  {
   "cell_type": "markdown",
   "metadata": {},
   "source": [
    "Dobili smo izhodne bite naših LFSR enačb. Če pogledamo zgoraj zapisano Boolean funkcijo vidimo da se vrednost **x<sub>1</sub>** in  **x<sub>3</sub>** ujemata z vrednostjo funkcije v **75%** primerov. Prav tako se **x<sub>2</sub>** ujema v **50%** primerov. Izkoristimo to analizo tako, da poskušamo razbiti vsako šifro posebaj. Najprej bomo razbili **LFSR1**, nato **LFSR3** in na koncu še **LFSR2**."
   ]
  },
  {
   "cell_type": "markdown",
   "metadata": {},
   "source": [
    "Vemo, da ima prva enačba **32 možnih ključev**, saj bo ta dolžine 5 in tretja enačba **2048 možnih ključev** ker bo ta dolžine 11. Napišimo algoritma za generiranje vseh treh sekvenc."
   ]
  },
  {
   "cell_type": "code",
   "execution_count": 3,
   "metadata": {},
   "outputs": [],
   "source": [
    "def LFSR(eq, key, length):\n",
    "    output = key.copy()\n",
    "    if eq == 1:\n",
    "        for i in range(len(key), length):\n",
    "            output.append(output[i-2] ^ output[i-5])\n",
    "    if eq == 3:\n",
    "        for i in range(len(key), length):\n",
    "            output.append(output[i-2] ^ output[i-11])\n",
    "    if eq == 2:\n",
    "        for i in range(len(key), length):\n",
    "            output.append(output[i-1] ^ output[i-7])\n",
    "    return output"
   ]
  },
  {
   "cell_type": "markdown",
   "metadata": {},
   "source": [
    "Definirajmo še našo boolean funkcijo:"
   ]
  },
  {
   "cell_type": "code",
   "execution_count": 4,
   "metadata": {},
   "outputs": [],
   "source": [
    "def GEFFE(key1, key2, key3, length):\n",
    "    LFSR1 = LFSR(1, key1, length)\n",
    "    LFSR2 = LFSR(2, key2, length)\n",
    "    LFSR3 = LFSR(3, key3, length)\n",
    "\n",
    "    output = []\n",
    "    for (x1, x2, x3) in zip(LFSR1, LFSR2, LFSR3):\n",
    "        output.append((x1 & x2) ^ (x2 & x3) ^ x3)\n",
    "    return output\n",
    "        "
   ]
  },
  {
   "cell_type": "markdown",
   "metadata": {},
   "source": [
    "Sedaj lahko razbijemo šifro. Definiramo funkcijo, ki bo primerjala izhodne vrednosti vsakega registra posebaj z Boolean funkcijo. Parameter `p` poda s kakšno verjetnostjo se morata zaporedji ujemati, da vrne funkcija `True` oziroma `False`."
   ]
  },
  {
   "cell_type": "code",
   "execution_count": 5,
   "metadata": {},
   "outputs": [],
   "source": [
    "def compare(Y,F,p):\n",
    "    common = 0\n",
    "    for (y,f) in zip(Y,F):\n",
    "         if y == f: common += 1\n",
    "    if common >= p*len(F): return True\n",
    "    else: return False        "
   ]
  },
  {
   "cell_type": "markdown",
   "metadata": {},
   "source": [
    "Sedaj združimo vse dosedanje rezultate. Prva funkcija nam pretvori število v seznam ničel in enic dolžine m."
   ]
  },
  {
   "cell_type": "code",
   "execution_count": 6,
   "metadata": {},
   "outputs": [
    {
     "name": "stdout",
     "output_type": "stream",
     "text": [
      "POSSIBLE KEYS:  [[[0, 1, 1, 1, 0], [1, 1, 0, 1, 0, 0, 1], [1, 1, 1, 1, 0, 0, 1, 1, 0, 1, 0]]]\n"
     ]
    }
   ],
   "source": [
    "def attack(m, eq, keys1=None, keys3=None):\n",
    "    keys = []\n",
    "    if eq == 3 or eq == 1:\n",
    "        for i in range(pow(2,m)):\n",
    "            key = num_to_bin_list(i,m)\n",
    "            Y = LFSR(eq, key, len(F))\n",
    "            if compare(Y,F,0.70):\n",
    "                    keys.append(key)\n",
    "        return keys\n",
    "    \n",
    "    else:\n",
    "        for i in range(pow(2,m)):\n",
    "            for key1 in keys1:\n",
    "                 for key3 in keys3:\n",
    "                      key2 = num_to_bin_list(i,m)\n",
    "                      Y = GEFFE(key1, key2, key3, len(F))\n",
    "                      if compare(Y,F,1):\n",
    "                           keys.append([key1, key2, key3])\n",
    "        return keys\n",
    "\n",
    "keys1 = attack(5, 1)\n",
    "keys3 = attack(11, 3)\n",
    "keys = attack(7, 2, keys1, keys3)\n",
    "print(\"POSSIBLE KEYS: \", keys)"
   ]
  },
  {
   "cell_type": "markdown",
   "metadata": {},
   "source": [
    "Zadnji korak, ko dobimo vse možne ključe je, da besedilo dešifriramo."
   ]
  },
  {
   "cell_type": "code",
   "execution_count": 7,
   "metadata": {},
   "outputs": [
    {
     "name": "stdout",
     "output_type": "stream",
     "text": [
      "cryptographypriortothemodernagewaseffectivelysynonymouswithencryptiontheconversionofinformationfromareadablestatetoapparentnonsensetheoriginatorofanencryptedmessagealicesharedthedecodingtechniqueneededtorecovertheoriginalinformationonlywithintendedrecipientsbobtherebyprecludingunwantedpersonsevefromdoingthesamethecryptographyliteratureoftenusesaliceaforthesenderbobbfortheintendedrecipientandeveeavesdropperfortheadversarysincethedevelopmentofrotorciphermachinesinworldwariandtheadventofcomputersinworldwariithemethodsusedtocarryoutcryptologyhavebecomeincreasinglycomplexanditsapplicationmorewidespread\n"
     ]
    }
   ],
   "source": [
    "def encrypt(keys, encrypted_text):\n",
    "    for key in keys:\n",
    "        output = GEFFE(key[0], key[1], key[2], len(encrypted_text))\n",
    "        output = list_to_str(output)\n",
    "        text = xor(output, encrypted_text)\n",
    "        text = list_to_str(text)\n",
    "        text = bin_to_str(text)\n",
    "        print(text)\n",
    "\n",
    "encrypt(keys, encrypted_text)"
   ]
  },
  {
   "cell_type": "markdown",
   "metadata": {},
   "source": [
    "## **Rešitev**\n",
    "\n",
    "Cryptography prior to the modern age was effectively synonymous with encryption the conversion of information from areadable state to apparent nonsense. The originator of an encrypted message Alice shared the decoding technique needed to recover the original in formation only with intended recipients Bob thereby precluding unwanted persons Eve from doing the same. The cryptography literature often uses Alice A for the sender Bob B for the intended recipient and Eve eavesdropper for the adversary. Since the development of rotor cipher machines in World War I and the advent of computers in World War II the methods used to carry out cryptology have become increasingly complex and its application more widespread."
   ]
  }
 ],
 "metadata": {
  "kernelspec": {
   "display_name": "Python 3 (ipykernel)",
   "language": "python",
   "name": "python3"
  },
  "language_info": {
   "codemirror_mode": {
    "name": "ipython",
    "version": 3
   },
   "file_extension": ".py",
   "mimetype": "text/x-python",
   "name": "python",
   "nbconvert_exporter": "python",
   "pygments_lexer": "ipython3",
   "version": "3.10.4"
  }
 },
 "nbformat": 4,
 "nbformat_minor": 4
}
