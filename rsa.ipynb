{
 "cells": [
  {
   "cell_type": "markdown",
   "metadata": {},
   "source": [
    "# **NAPAD NA RSA**\n",
    "\n",
    "**Avtor**: Nina Mislej\n",
    "<br />**Vpisna številka**: 63200016\n",
    "\n",
    "### **Kratek opis naloge**\n",
    "Imamo pametne kartice in vsaka izmed teh ima svoj **ključ** za šifriranje z **DES** algoritmom. Skrivno število uporabnika **A** označimo z **u**(**A**). Ker je sistem zastarel bo implementiran nov sistem, ki za šifriranje uporablja **ista števila** vendar je algoritem za šifriranje po novem **RSA**. Imamo strežnik, kjer se preverjajo podatki kartice. Ključa sta označena kot (**n,e**) in (**n,d**), kjer je (**n,e**) javni ključ uporabljen za šifriranje in (**n,d**) privatni ključ za dešifriranje. Zato, da je šifriranje hitro uporabimo ključ velikosti **e** = **3**. Ta ključ doda na vsako kartico.\n",
    "\n",
    "Ker so sporočila z tako majhnim eksponentom tvegana, je uporabljena varna shema z različnim **zapolnjevanjem**. Vsaka prijava ima torej različno število za zapolnjevanje."
   ]
  },
  {
   "cell_type": "markdown",
   "metadata": {},
   "source": [
    "## **PRIMER A**"
   ]
  },
  {
   "cell_type": "markdown",
   "metadata": {},
   "source": [
    "Omogočeno je **spremljanje** poslanih sporočil na pametni kartici in strežniku. Število, ki ga šifriramo je generirano tako: **m<sub>i</sub>** = **u**(**A**) · **2<sup>123</sup>** + **i**, kjer je i zaporedna številka sporočila. \n",
    "<br/> Za ta specifičen primer želimo izračunati:\n",
    "- **u**(**Bojan**) =  **34100010166843172** \n",
    "- zaporedna številka **i** = **1909**.\n",
    "- ključ: (**n**, **e**) = (**1353040922319896710729948440742113526140662069124237571**, **3**)\n",
    "\n",
    "### **Rešitev**\n",
    "RSA algoritem uporablja za šifriranje in dešifriranje sledeč sistem. Vzamemo števili **p** in **q**, ki jih javnost ne ve in jih zmnožimo v število **n**, ki je nam in javnosti kasneje znano. \n",
    "</br>Nato vzamemo **Eulerjevo funkcijo**, ki bo zmnožek števil **(p - 1)** in **(q - 1)**. Tudi to število ostane skrito.\n",
    "</br>Vzamemo število e, ki je tuje φ(n).\n",
    "</br>Ključ za dešifriranje generiramo tako: **d** ≡ **e<sup>−1</sup>** mod φ(n)\n",
    "\n",
    "**ŠIFRIRANJE:** **c** ≡ **m<sup>e</sup>** mod n\n",
    "</br>**DEŠIFRIRANJE:** **m** = **c<sup>d</sup>** mod n"
   ]
  },
  {
   "cell_type": "code",
   "execution_count": 1,
   "metadata": {},
   "outputs": [],
   "source": [
    "def get_m(u, i):\n",
    "    m = u * pow(2,123) + i\n",
    "    return m"
   ]
  },
  {
   "cell_type": "code",
   "execution_count": 2,
   "metadata": {},
   "outputs": [],
   "source": [
    "def encrypt(m, e, n):\n",
    "    c = pow(m, e, n)\n",
    "    return c"
   ]
  },
  {
   "cell_type": "code",
   "execution_count": 3,
   "metadata": {},
   "outputs": [
    {
     "name": "stdout",
     "output_type": "stream",
     "text": [
      "To je skrivno stevilo z zaporedno stevilko 1909:\n",
      "362613505362545633945092350256402989265709266502682485\n",
      "\n",
      "Zasifrirano stevilo pa je:\n",
      "723941917581347359534709894322925645398915405217429002\n"
     ]
    }
   ],
   "source": [
    "i = 1909\n",
    "u = 34100010166843172\n",
    "e = 3\n",
    "n = 1353040922319896710729948440742113526140662069124237571\n",
    "\n",
    "m = get_m(u, i)\n",
    "c = encrypt(m, e, n)\n",
    "print(f'To je skrivno stevilo z zaporedno stevilko {i}:\\n{m}\\n')\n",
    "print(f'Zasifrirano stevilo pa je:\\n{c}')"
   ]
  },
  {
   "cell_type": "markdown",
   "metadata": {},
   "source": [
    "## **PRIMER B**"
   ]
  },
  {
   "cell_type": "markdown",
   "metadata": {},
   "source": [
    "**Cene** je zasledil **3 Anitine** zaporedne prijave za dostop do računalnika.\n",
    "- **c<sub>j</sub>** = **164867525413631686108542244605590332657131844994186648**\n",
    "- **c<sub>j+1</sub>** = **669330273667331356154438891368274712878935740757554990**\n",
    "- **c<sub>j+2</sub>** = **853109242122207805055956523445529343243869885591747755**\n",
    "\n",
    "Javni ključ in shema za zapolnjevanje sta enaka. Zaporednega števila ne poznamo vendar je veliko manjše od **2<sup>123</sup>** in bo zapisano v zgornjih 56 bitih skrivne številke **m<sub>j</sub>** dešifriranjega kriptograma **c<sub>j</sub>**. \n",
    "</br> Dešifrirati želimo Anitino skrivno število."
   ]
  },
  {
   "cell_type": "markdown",
   "metadata": {},
   "source": [
    "### **Rešitev**\n",
    "\n",
    "Števila **m<sub>j</sub>**, **m<sub>j+1</sub>** in **m<sub>j+2</sub>** so zaporedna števila, torej je:\n",
    "- **m<sub>j</sub>** = **u** · **2<sup>123</sup>** + **j**\n",
    "- **m<sub>j+1</sub>** = **m<sub>j</sub>** + **1** = **u** · **2<sup>123</sup>** + **j** + **1**\n",
    "- **m<sub>j+2</sub>** = **m<sub>j</sub>** + **2** = **u** · **2<sup>123</sup>** + **j** + **2**\n",
    "\n",
    "Torej je razlika med števili zelo majhna in lahko uporabimo nekaj idej **Franklin–Reiterjevega izreka**. Predpostavka je tudi, da imamo več prejetih sporočil in majhen eksponent, kar v našrem primeru drži saj je eksponent 3 in imamo 3 zaporedna prejeta sporočila. "
   ]
  },
  {
   "cell_type": "markdown",
   "metadata": {},
   "source": [
    "Definirajmo 3 polinome:\n",
    "- **p<sub>j</sub>**(**x**) = **x<sup>e</sup>** - **c<sub>j</sub>** mod n\n",
    "- **p<sub>j+1</sub>**(**x**) = (**x** + **1**)**<sup>e</sup>** - **c<sub>j+1</sub>** mod n\n",
    "- **p<sub>j+2</sub>**(**x**) = (**x** + **2**)**<sup>e</sup>** - **c<sub>j+2</sub>** mod n\n",
    "\n",
    "Ti polinomi imajo skupno ničlo **m<sub>j</sub>**, saj velja:\n",
    "- **c<sub>j</sub>** = **m<sub>j</sub><sup>e</sup>** mod n\n",
    "- **c<sub>j+1</sub>** = **m<sub>j+1</sub><sup>e</sup>** mod n = (**m<sub>j</sub>** + **1**)**<sup>e</sup>** mod n\n",
    "- **c<sub>j+2</sub>** = **m<sub>j+2</sub><sup>e</sup>** mod n = (**m<sub>j</sub>** + **2**)**<sup>e</sup>** mod n\n",
    "\n",
    "Ker imajo skupno ničlo lahko poskusimo izračunati **GCD**. Če dobimo linearni člen bomo našli ničlo **m<sub>j</sub>** in potem nadaljevali z obračanjem sheme za zaponlnjevanje. Najprej poskusimo z samo dvemi sporočili. Če bomo potrebovali še eno bomo zračunali GCD vseh treh."
   ]
  },
  {
   "cell_type": "code",
   "execution_count": 4,
   "metadata": {},
   "outputs": [],
   "source": [
    "c0 = 164867525413631686108542244605590332657131844994186648\n",
    "c1 = 669330273667331356154438891368274712878935740757554990\n",
    "c2 = 853109242122207805055956523445529343243869885591747755"
   ]
  },
  {
   "cell_type": "code",
   "execution_count": 5,
   "metadata": {},
   "outputs": [
    {
     "name": "stdout",
     "output_type": "stream",
     "text": [
      "To je najvecji skupni delitelj:\n",
      "x - 172059523753512248264261571009447296047298719699176998\n",
      "\n",
      "To je prvo zakodirano skrito stevilo:\n",
      "172059523753512248264261571009447296047298719699176998\n"
     ]
    }
   ],
   "source": [
    "from sympy.abc import x\n",
    "import sympy as sy\n",
    "\n",
    "p0 = sy.Poly(x**e - c0, modulus=n)\n",
    "p1 = sy.Poly((x + 1)**e - c1, modulus=n)\n",
    "p2 = sy.Poly((x + 2)**e - c2, modulus=n)\n",
    "\n",
    "root = sy.gcd(p0,p1)\n",
    "print(f\"To je najvecji skupni delitelj:\\n{root.as_expr()}\\n\")\n",
    "\n",
    "m = - root(0)\n",
    "print(f\"To je prvo zakodirano skrito stevilo:\\n{m}\")\n",
    "\n"
   ]
  },
  {
   "cell_type": "markdown",
   "metadata": {},
   "source": [
    "Sedaj imamo **m**. Naša naslednja naloga je, da ven dobimo skrivno število."
   ]
  },
  {
   "cell_type": "code",
   "execution_count": 6,
   "metadata": {},
   "outputs": [],
   "source": [
    "def num_to_bin(n):\n",
    "    return [int(bit) for bit in list(bin(n))[2:]]\n",
    "\n",
    "def bin_to_num(seq):\n",
    "    s = \"0b\" + \"\".join(str(bit) for bit in seq)\n",
    "    return int(s, 2)"
   ]
  },
  {
   "cell_type": "code",
   "execution_count": 7,
   "metadata": {},
   "outputs": [
    {
     "name": "stdout",
     "output_type": "stream",
     "text": [
      "Prej pridobljen m ima 177 bitov.\n"
     ]
    }
   ],
   "source": [
    "bin_m = num_to_bin(m)\n",
    "len_m = len(bin_m)\n",
    "\n",
    "print(f\"Prej pridobljen m ima {len_m} bitov.\")"
   ]
  },
  {
   "cell_type": "markdown",
   "metadata": {},
   "source": [
    "Če si bolj podrobno ogledamo funkcijo, ki je število spremenila opazimo, da lahko množenje z **2<sup>123</sup>** interpretiramo kot zamik za 123 bitov. Na začetku naloge je opisano, da so bila skrita števila na karticah najprej ključi za **DES** algoritem. Za algoritem je značilno, da ima **ključe dolžine 64 bitov** od tega jih je samo 56 na voljo za izbiro števila. Število je torej zapisano na največ **56 bitih** in premaknjeno za 123 bitov. Prav tako vemo, da je zaporedno število manjše od **2<sup>123</sup>** in ga prištejemo šele po premiku, torej se števili ne prekrivata. Izrecno piše, da zasede samo prvih 57 bitov, kar nam zadevo še olajša. Odštejemo zaporedno število in u zamaknemo nazaj v desno z deljenjem. \n",
    "\n",
    "Dobimo končni rezultat: **16180399854194147**"
   ]
  },
  {
   "cell_type": "code",
   "execution_count": 8,
   "metadata": {},
   "outputs": [
    {
     "name": "stdout",
     "output_type": "stream",
     "text": [
      "Končen rezultat: 16180399854194147\n",
      "Zaporedna številka: 3622\n"
     ]
    }
   ],
   "source": [
    "seq_num = bin_to_num(bin_m[121:])\n",
    "u = (m - seq_num) / pow(2,123)\n",
    "\n",
    "print(f\"Končen rezultat: {u}\")\n",
    "print(f\"Zaporedna številka: {seq_num}\")"
   ]
  },
  {
   "cell_type": "markdown",
   "metadata": {},
   "source": [
    "Zadevo lahko seveda še preverimo:"
   ]
  },
  {
   "cell_type": "code",
   "execution_count": 9,
   "metadata": {},
   "outputs": [
    {
     "name": "stdout",
     "output_type": "stream",
     "text": [
      "Ali sta šifrirani števili enaki: True\n"
     ]
    }
   ],
   "source": [
    "test_m = get_m(u, seq_num)\n",
    "test_c = encrypt(test_m, e, n)\n",
    "\n",
    "print(f\"Ali sta šifrirani števili enaki: {c0 == test_c}\")"
   ]
  },
  {
   "cell_type": "markdown",
   "metadata": {},
   "source": [
    "## **PRIMER C**"
   ]
  },
  {
   "attachments": {},
   "cell_type": "markdown",
   "metadata": {},
   "source": [
    "Shema iz prejšnjih nalog je bila za šifriranje preveč zapletena, zato posodobijo protokol za izdajo skrivnih števil. Izbrali so **30**-**bitna** števila za vsakega uporabnika. Strežnik kartici pošlje **80**-**bitni** izziv **s** in kartici dovoli dostop če mu odgovori s šifriranjem besedila **m** = **u**(**A**) + **2<sup>99</sup>** · **s**. Javni ključ je isti kot prej. \n",
    "\n",
    "Prestreženo je bilo šifrirano število **c** = **1304427715737794183639527703843118636234043562220564999**.\n",
    "</br>Vemo tudi da je bil poslan **s** = **661795599945365472793374** \n",
    "</br>Izvesti želimo napad na skrivno število **u** z zgoraj navedenimi podatki!\n"
   ]
  },
  {
   "cell_type": "code",
   "execution_count": 10,
   "metadata": {},
   "outputs": [],
   "source": [
    "c = 1304427715737794183639527703843118636234043562220564999\n",
    "s = 661795599945365472793374"
   ]
  },
  {
   "cell_type": "code",
   "execution_count": 11,
   "metadata": {},
   "outputs": [],
   "source": [
    "import math\n",
    "\n",
    "def get_m(s, u):\n",
    "    m = (pow(2,99) * s) + u \n",
    "    return m"
   ]
  },
  {
   "cell_type": "markdown",
   "metadata": {},
   "source": [
    "### **Rešitev**\n",
    "\n",
    "**REŠITEV**: 1003453592"
   ]
  },
  {
   "attachments": {},
   "cell_type": "markdown",
   "metadata": {},
   "source": [
    "Lahko si pomagamo tako kot prej, vendar za število **m** dejansko vzamemo **s** in gledamo **u** kot zapolnitev. Morda si lahko pomagamo s **Coppersmithovim napadom** saj je padding, oziroma naše iskano število, kratko - samo 30 bitov. Ker vemo **shemo**, lahko generiramo še eno število recimo **u** = **0** in dobimo:\n",
    "- **m <sub>generiran</sub>** = **2<sup>99</sup>** · **s** + **0**\n",
    "- **m <sub>original</sub>** = **2<sup>99</sup>** · **s** + **u**\n",
    "\n",
    "Novo generirano število nato še šifriramo v **c <sub>generiran</sub>**.\n",
    "</br>To lahko uporabimo, saj sta števili **u** in **0** obe **manjši** od **2<sup>99</sup>**, ker je **u** največ velikosti **2<sup>31</sup>** - **1**"
   ]
  },
  {
   "cell_type": "code",
   "execution_count": 12,
   "metadata": {},
   "outputs": [
    {
     "name": "stdout",
     "output_type": "stream",
     "text": [
      "Naše zakriptirano število:\n",
      "250709091204979875045912708275270346215666699961305924\n",
      "\n",
      "Originalno zakriptirano število:\n",
      "1304427715737794183639527703843118636234043562220564999\n"
     ]
    }
   ],
   "source": [
    "c_generiran = encrypt(get_m(s,0), e, n)\n",
    "c_original = c\n",
    "\n",
    "print(f'Naše zakriptirano število:\\n{c_generiran}\\n')\n",
    "print(f'Originalno zakriptirano število:\\n{c_original}')"
   ]
  },
  {
   "attachments": {},
   "cell_type": "markdown",
   "metadata": {},
   "source": [
    "Sedaj lahko uporabimo **Coppersmithov izrek**, da najdemo razliko med **0** in **u**, ki očitno kar **u**.\n",
    "\n",
    "</br>Tako kot prej, lahko vidimo, da velja: **m <sub>original</sub>** = **m <sub>generiran</sub>** + **u**\n",
    "\n",
    "Spet definiramo 2 para po 2 polinoma:\n",
    "- **g <sub>generiran</sub>** (**x**, **u**) = **x<sup>e</sup>** - **c <sub>generiran</sub>** mod n\n",
    "- **g <sub>original</sub>** (**x**, **u**) = (**x** + **u**)**<sup>e</sup>** - **c <sub>original</sub>** mod n\n",
    "\n",
    "Sedaj moramo najti rezultanto teh dveh polinomov: **h**(**y**) = **res<sub>x</sub>** ( **g <sub>generiran</sub>**, **g <sub>original</sub>** ) ∈ **Z<sub>n</sub>** in nato njene ničle. \n",
    "</br>Ničle bomo iskali po **Coppersmithovi metodi**."
   ]
  },
  {
   "cell_type": "code",
   "execution_count": 13,
   "metadata": {},
   "outputs": [
    {
     "name": "stdout",
     "output_type": "stream",
     "text": [
      "u**9 - 455074028958649504320948105219317817773806448529302083*u**6 - 464059992402711991548196570902245393779212857554194246*u**3 - 422347353194341057197606878350612784897058912804841381\n"
     ]
    }
   ],
   "source": [
    "from sympy.abc import x, u\n",
    "import sympy as sy\n",
    "sy.init_printing() \n",
    "\n",
    "g_generiran = sy.Poly(x**e - c_generiran, modulus=n)\n",
    "g_original = sy.Poly((x + u)**e - c_original, modulus=n)\n",
    "\n",
    "rez = sy.resultant(g_generiran, g_original, modulus=n)\n",
    "print(rez.as_expr())"
   ]
  },
  {
   "attachments": {},
   "cell_type": "markdown",
   "metadata": {},
   "source": [
    "Sedaj moramo preveriti ali ustreza pogojem za to metodo. Veljati mora, da je iskana **ničla po absolutni vrednosti manjša** od **n** na $\\frac{1}{deg(p)}$, kjer je **deg**(**p**) stopnja polinoma. \n",
    "</br>Funkcija deluje tako, da vrne **False** če ima pogojno število manj bitov kakor potencialno največja ničla, ki ima lahko 30 bitov. Drugače vrne **True**"
   ]
  },
  {
   "cell_type": "code",
   "execution_count": 14,
   "metadata": {},
   "outputs": [
    {
     "name": "stdout",
     "output_type": "stream",
     "text": [
      "Ali polinom ustreza pogojem za metodo: False\n"
     ]
    }
   ],
   "source": [
    "def check_coppersmith(deg, n):\n",
    "    cond = math.ceil(n**(1/deg))\n",
    "    no_bits = len(num_to_bin(cond))\n",
    "    if no_bits <= 30: return False\n",
    "    else: return True \n",
    "\n",
    "print(f'Ali polinom ustreza pogojem za metodo: {check_coppersmith(sy.degree(rez),n)}')"
   ]
  },
  {
   "cell_type": "markdown",
   "metadata": {},
   "source": [
    "Torej iskanje po tej metodi za ta polinom najverjetneje ne bo uspelo. Vseeno lahko poskusimo.\n",
    "</br> pomagamo si z programsko opremo za simbolno matematiko, ki ima ta algoritem že implementiran: **SageMath**"
   ]
  },
  {
   "cell_type": "code",
   "execution_count": 1,
   "metadata": {},
   "outputs": [
    {
     "name": "stdout",
     "output_type": "stream",
     "text": [
      "[]\n"
     ]
    }
   ],
   "source": [
    "# Has to be executed either afterwards or separately using MathSage\n",
    "K = Zmod(1353040922319896710729948440742113526140662069124237571)\n",
    "P.<u> = PolynomialRing(K)\n",
    "rez = u**9 - 455074028958649504320948105219317817773806448529302083*u**6\\\n",
    "           - 464059992402711991548196570902245393779212857554194246*u**3\\\n",
    "           - 422347353194341057197606878350612784897058912804841381\n",
    "        \n",
    "print(rez.small_roots())"
   ]
  },
  {
   "attachments": {},
   "cell_type": "markdown",
   "metadata": {},
   "source": [
    "Vidimo, da vrne prazen seznam, torej ničla ni bila najdena. Naslednji korak je, da dobimo **polinom nižje stopnje**, s skupno ničlo. \n",
    "\n",
    "Vzeli bomo še eno število npr. **1** in izračunali njegovo šifrirano vrednost. Dobimo: **m<sub> pomozen</sub>** = **2<sup>99</sup>** · **s** + **1**\n",
    "</br> Sedaj spet čisto ekivalentno ponovimo prejšnje korake, velja:\n",
    "- imamo zvezo: **m<sub> original</sub>** = **m<sub> pomozen</sub>** + **u** - **1**\n",
    "- definiramo 2 nova polinoma: \n",
    "     - **h<sub> generiran</sub>** (**x**, **u**) = **x<sup>e</sup>** - **c<sub> pomozen</sub>** mod n\n",
    "     - **h<sub> original</sub>** (**x**, **u**) = (**x** + **u** - 1)**<sup>e</sup>** - **c<sub> original</sub>** mod n"
   ]
  },
  {
   "cell_type": "code",
   "execution_count": 16,
   "metadata": {},
   "outputs": [
    {
     "name": "stdout",
     "output_type": "stream",
     "text": [
      "u**3 - 94652538071181126988218514488049207738801189623269635*u**2 + 350860114408333717151340742022780238302215777475914718*u + 299322297787082402136333445174265236122285206864978496\n"
     ]
    }
   ],
   "source": [
    "c_pomozen = encrypt(get_m(s,1), e, n)\n",
    "\n",
    "h_generiran = sy.Poly(x**e - c_pomozen, modulus=n)\n",
    "h_original = sy.Poly((x + u - 1)**e - c_original, modulus=n)\n",
    "\n",
    "rez_2 = sy.resultant(h_generiran, h_original, modulus=n)\n",
    "\n",
    "root = sy.gcd(rez, rez_2)\n",
    "print(root.as_expr())"
   ]
  },
  {
   "cell_type": "markdown",
   "metadata": {},
   "source": [
    "Razložimo. Polinoma imata za skupno ničlo število **u**, ki ga iščemo. Če ne bi namesto **h<sub> original</sub>** vzeli kar prejšnji **g<sub> original</sub>** bi bila ničla rezultante **u** - **1**, saj bi to bila razlika med prištetima elementoma k **2<sup>99</sup>** · **s**. Ker pa smo v novem polinomu dodali **-1**, bo morala ničla biti **za 1 večja** torej **u**. To lahko pokažemo tako, da v polinom vstavimo **u** + **1**. \n",
    "\n",
    "**h<sub> original</sub>** (**x**, **u** + **1**) = (**x** + (**u** + **1**) - 1)**<sup>e</sup>** - **c<sub> original</sub>** mod n = **g<sub> original</sub>**.\n",
    "\n",
    "Polinoma imata potemtakem očitno skupno ničlo **u** in ko smo izračunali **GCD** se je stopnja polinoma zmanjšala. Spet poskusimo ali ustreza pogojem. "
   ]
  },
  {
   "cell_type": "code",
   "execution_count": 17,
   "metadata": {},
   "outputs": [
    {
     "name": "stdout",
     "output_type": "stream",
     "text": [
      "Ali polinom ustreza pogojem za metodo: True\n"
     ]
    }
   ],
   "source": [
    "print(f'Ali polinom ustreza pogojem za metodo: {check_coppersmith(sy.degree(root),n)}')"
   ]
  },
  {
   "cell_type": "code",
   "execution_count": 2,
   "metadata": {},
   "outputs": [
    {
     "name": "stdout",
     "output_type": "stream",
     "text": [
      "[1003453592]\n"
     ]
    }
   ],
   "source": [
    "# Has to be executed either afterwards or separately using MathSage\n",
    "root = u**3 - 94652538071181126988218514488049207738801189623269635*u**2\\\n",
    "            + 350860114408333717151340742022780238302215777475914718*u\\\n",
    "            + 299322297787082402136333445174265236122285206864978496\n",
    "roots = root.small_roots()\n",
    "print(roots)"
   ]
  },
  {
   "cell_type": "markdown",
   "metadata": {},
   "source": [
    "MathSage je tokrat našel ničlo. Preverimo ali je to res pravilen ogovor ... \n",
    "\n",
    "**REŠITEV:** 1003453592  "
   ]
  },
  {
   "cell_type": "code",
   "execution_count": 18,
   "metadata": {},
   "outputs": [
    {
     "name": "stdout",
     "output_type": "stream",
     "text": [
      "Ali sta šifrirani števili enaki: True\n"
     ]
    }
   ],
   "source": [
    "u = 1003453592\n",
    "m_test = get_m(s, u)\n",
    "c_test = encrypt(m_test, e, n)\n",
    "\n",
    "print(f\"Ali sta šifrirani števili enaki: {c0 == test_c}\")"
   ]
  }
 ],
 "metadata": {
  "kernelspec": {
   "display_name": "SageMath 8.1",
   "language": "",
   "name": "sagemath"
  },
  "language_info": {
   "codemirror_mode": {
    "name": "ipython",
    "version": 2
   },
   "file_extension": ".py",
   "mimetype": "text/x-python",
   "name": "python",
   "nbconvert_exporter": "python",
   "pygments_lexer": "ipython2",
   "version": "2.7.17"
  }
 },
 "nbformat": 4,
 "nbformat_minor": 4
}
